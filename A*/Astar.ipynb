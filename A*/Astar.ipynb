{
 "cells": [
  {
   "cell_type": "code",
   "execution_count": 1,
   "id": "9973822a",
   "metadata": {},
   "outputs": [
    {
     "name": "stdout",
     "output_type": "stream",
     "text": [
      "path found:['A', 'F', 'G', 'I', 'J']\n"
     ]
    },
    {
     "data": {
      "text/plain": [
       "['A', 'F', 'G', 'I', 'J']"
      ]
     },
     "execution_count": 1,
     "metadata": {},
     "output_type": "execute_result"
    }
   ],
   "source": [
    "def aStarAlgo(start_node, stop_node):\n",
    "    open_set=set(start_node)\n",
    "    closed_set=set()\n",
    "    g={}\n",
    "    parents={}\n",
    "    g[start_node]=0\n",
    "    parents[start_node]=start_node\n",
    "    while len(open_set)>0:\n",
    "        n=None\n",
    "        for v in open_set:\n",
    "            if n==None or g[v]+heuristic(v)<g[n]+heuristic(n):\n",
    "                n=v\n",
    "        if n==stop_node or Graph_nodes[n]==None:\n",
    "            pass\n",
    "        else:\n",
    "            for(m,weight) in get_neighbours(n):\n",
    "                if m not in open_set and m not in closed_set:\n",
    "                    open_set.add(m)\n",
    "                    parents[m]=n\n",
    "                    g[m]=g[n]+weight\n",
    "                else:\n",
    "                    if g[m]>g[n]+weight:\n",
    "                        g[m]=g[n]+weight\n",
    "                        parents[m]=n\n",
    "                        if m in closed_set:\n",
    "                            closed_set.remove(m)\n",
    "                            open_set.add(m)\n",
    "        if n==None:\n",
    "                print('Path does not exist!')\n",
    "                return None\n",
    "        if n==stop_node:\n",
    "            path=[]\n",
    "            while parents[n]!=n:\n",
    "                path.append(n)\n",
    "                n=parents[n]\n",
    "            path.append(start_node)\n",
    "            path.reverse()\n",
    "            print(\"path found:{}\".format(path))\n",
    "            return path\n",
    "        open_set.remove(n)\n",
    "        closed_set.add(n)\n",
    "    print('Path does not exist!')\n",
    "    return None\n",
    "def get_neighbours(v):\n",
    "    if v in Graph_nodes:\n",
    "        return Graph_nodes[v]\n",
    "    return None    \n",
    "def heuristic(n):\n",
    "    H_list={\n",
    "        'A': 11,\n",
    "        'B':6,\n",
    "        'C':5,\n",
    "        'D':7,\n",
    "        'E':3,\n",
    "        'F':6,\n",
    "        'G':5,\n",
    "        'H':3,\n",
    "        'I':1,\n",
    "        'J':0\n",
    "    }\n",
    "    return H_list[n]\n",
    "Graph_nodes={\n",
    "    'A':[('B',6),('F',3)],\n",
    "    'B':[('C',3),('D',2)],\n",
    "    'C':[('D',1),('E',5)],\n",
    "    'D':[('C',1),('E',8)],\n",
    "    'E':[('I',5),('J',5)],\n",
    "    'F':[('G',1),('H',7)],\n",
    "    'G':[('I',3)],\n",
    "    'H':[('I',2)],\n",
    "    'I':[('E',5),('J',3)]   \n",
    "}\n",
    "aStarAlgo('A','J')"
   ]
  },
  {
   "cell_type": "code",
   "execution_count": null,
   "id": "acdad62e",
   "metadata": {},
   "outputs": [],
   "source": []
  }
 ],
 "metadata": {
  "kernelspec": {
   "display_name": "Python 3",
   "language": "python",
   "name": "python3"
  },
  "language_info": {
   "codemirror_mode": {
    "name": "ipython",
    "version": 3
   },
   "file_extension": ".py",
   "mimetype": "text/x-python",
   "name": "python",
   "nbconvert_exporter": "python",
   "pygments_lexer": "ipython3",
   "version": "3.8.8"
  }
 },
 "nbformat": 4,
 "nbformat_minor": 5
}
