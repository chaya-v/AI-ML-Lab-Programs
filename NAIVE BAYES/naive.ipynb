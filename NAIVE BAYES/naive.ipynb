{
 "cells": [
  {
   "cell_type": "code",
   "execution_count": 1,
   "id": "c4d8498c",
   "metadata": {},
   "outputs": [
    {
     "name": "stdout",
     "output_type": "stream",
     "text": [
      "Training Set : \n",
      "      Outlook Temperature Humidity   Windy PlayTennis\n",
      "5      Rainy        Cool   Normal  Strong         No\n",
      "3      Rainy        Mild     High    Weak        Yes\n",
      "9      Rainy        Mild   Normal    Weak        Yes\n",
      "8      Sunny        Cool   Normal    Weak        Yes\n",
      "4      Rainy        Cool   Normal    Weak        Yes\n",
      "12  Overcast         Hot   Normal    Weak        Yes\n",
      "11  Overcast        Mild     High  Strong        Yes\n",
      "0      Sunny         Hot     High    Weak         No\n",
      "6   Overcast        Cool   Normal  Strong        Yes\n",
      "7      Sunny        Mild     High    Weak         No\n",
      "\n",
      "Test Data Set : \n",
      "      Outlook Temperature Humidity   Windy PlayTennis\n",
      "1      Sunny         Hot     High  Strong         No\n",
      "2   Overcast         Hot     High    Weak        Yes\n",
      "10     Sunny        Mild   Normal  Strong        Yes\n",
      "13     Rainy        Mild     High  Strong         No\n",
      "\n",
      "Actual Values :  ['No', 'Yes', 'Yes', 'No']\n",
      "Predicted :  ['No', 'No', 'No', 'No', 'Yes', 'Yes', 'Yes', 'Yes', 'No', 'No', 'Yes', 'Yes', 'Yes', 'Yes', 'Yes', 'Yes']\n",
      "Accuracy :  0.75\n"
     ]
    }
   ],
   "source": [
    "import pandas as pd\n",
    "#reading the dataset\n",
    "data=pd.read_csv('data_naive.csv')\n",
    "#calculating the total no.,no. of positive and no. of negative instances\n",
    "te=len(data)\n",
    "np=len(data.loc[data[data.columns[-1]]=='Yes'])\n",
    "nn=te-np\n",
    "#dividing the dataset into training and test\n",
    "training=data.sample(frac=0.75,replace=False)\n",
    "test=pd.concat([data, training, training]).drop_duplicates(keep=False)\n",
    "print('Training Set : \\n',training)\n",
    "print('\\nTest Data Set : \\n',test)\n",
    "#For every value of each attribute calculate the negative and positive probability\n",
    "prob={}\n",
    "for col in training.columns[:-1]:\n",
    "    prob[col]={}\n",
    "    vals=set(data[col])\n",
    "    for val in vals:\n",
    "        temp=training.loc[training[col]==val]\n",
    "        pe=len(temp.loc[temp[temp.columns[-1]]=='Yes'])\n",
    "        ne=len(temp)-pe\n",
    "        prob[col][val]=[pe/np,ne/nn]\n",
    "#Using Bayes Theorem to Predict the output\n",
    "prediction=[]\n",
    "right_prediction=0\n",
    "for i in range(len(test)):\n",
    "    row=test.iloc[i,:]\n",
    "    fpp=np/te\n",
    "    fpn=nn/te\n",
    "    for col in test.columns[:-1]:\n",
    "        fpp*=prob[col][row[col]][0]\n",
    "        fpn*=prob[col][row[col]][1]\n",
    "        if fpp>fpn:\n",
    "            prediction.append('Yes')\n",
    "        else:\n",
    "            prediction.append('No')\n",
    "    if prediction[-1]==row[-1]:\n",
    "        right_prediction+=1\n",
    "#output\n",
    "print('\\nActual Values : ',list(test[test.columns[-1]]))\n",
    "print('Predicted : ',prediction)\n",
    "print('Accuracy : ',right_prediction/len(test))\n"
   ]
  },
  {
   "cell_type": "code",
   "execution_count": null,
   "id": "b75d122f",
   "metadata": {},
   "outputs": [],
   "source": []
  }
 ],
 "metadata": {
  "kernelspec": {
   "display_name": "Python 3",
   "language": "python",
   "name": "python3"
  },
  "language_info": {
   "codemirror_mode": {
    "name": "ipython",
    "version": 3
   },
   "file_extension": ".py",
   "mimetype": "text/x-python",
   "name": "python",
   "nbconvert_exporter": "python",
   "pygments_lexer": "ipython3",
   "version": "3.8.8"
  }
 },
 "nbformat": 4,
 "nbformat_minor": 5
}
