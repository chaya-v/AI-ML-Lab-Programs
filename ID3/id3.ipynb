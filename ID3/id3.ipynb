{
 "cells": [
  {
   "cell_type": "code",
   "execution_count": 6,
   "id": "919fa95d",
   "metadata": {},
   "outputs": [
    {
     "name": "stdout",
     "output_type": "stream",
     "text": [
      " Outlook=Rainy^Windy=Weak=>Yes\n",
      " Outlook=Rainy^Windy=Strong=>No\n",
      " Outlook=Overcast=>Yes\n",
      " Outlook=Sunny^Humidity=High=>No\n",
      " Outlook=Sunny^Humidity=Normal=>Yes\n",
      "Enter the test case input: \n",
      "Outlook: Rain\n",
      "Temperature: Hot\n",
      "Humidity: High\n",
      "Windy: Strong\n",
      "{'Outlook': 'Rain', 'Temperature': 'Hot', 'Humidity': 'High', 'Windy': 'Strong'}\n"
     ]
    },
    {
     "ename": "KeyError",
     "evalue": "'Rain'",
     "output_type": "error",
     "traceback": [
      "\u001b[1;31m---------------------------------------------------------------------------\u001b[0m",
      "\u001b[1;31mKeyError\u001b[0m                                  Traceback (most recent call last)",
      "\u001b[1;32m<ipython-input-6-d24f433c91df>\u001b[0m in \u001b[0;36m<module>\u001b[1;34m\u001b[0m\n\u001b[0;32m     70\u001b[0m     \u001b[0mtest_str\u001b[0m\u001b[1;33m[\u001b[0m\u001b[0mattr\u001b[0m\u001b[1;33m]\u001b[0m \u001b[1;33m=\u001b[0m \u001b[0minput\u001b[0m\u001b[1;33m(\u001b[0m\u001b[0mattr\u001b[0m\u001b[1;33m+\u001b[0m\u001b[1;34m\": \"\u001b[0m\u001b[1;33m)\u001b[0m\u001b[1;33m\u001b[0m\u001b[1;33m\u001b[0m\u001b[0m\n\u001b[0;32m     71\u001b[0m \u001b[0mprint\u001b[0m\u001b[1;33m(\u001b[0m\u001b[0mtest_str\u001b[0m\u001b[1;33m)\u001b[0m\u001b[1;33m\u001b[0m\u001b[1;33m\u001b[0m\u001b[0m\n\u001b[1;32m---> 72\u001b[1;33m \u001b[0mprint\u001b[0m\u001b[1;33m(\u001b[0m\u001b[0mtest\u001b[0m\u001b[1;33m(\u001b[0m\u001b[0mtree\u001b[0m\u001b[1;33m,\u001b[0m \u001b[0mtest_str\u001b[0m\u001b[1;33m)\u001b[0m\u001b[1;33m)\u001b[0m\u001b[1;33m\u001b[0m\u001b[1;33m\u001b[0m\u001b[0m\n\u001b[0m",
      "\u001b[1;32m<ipython-input-6-d24f433c91df>\u001b[0m in \u001b[0;36mtest\u001b[1;34m(tree, test_str)\u001b[0m\n\u001b[0;32m     59\u001b[0m     \u001b[1;32mif\u001b[0m \u001b[1;32mnot\u001b[0m \u001b[0mtree\u001b[0m\u001b[1;33m.\u001b[0m\u001b[0mbranch\u001b[0m\u001b[1;33m:\u001b[0m\u001b[1;33m\u001b[0m\u001b[1;33m\u001b[0m\u001b[0m\n\u001b[0;32m     60\u001b[0m         \u001b[1;32mreturn\u001b[0m \u001b[0mtree\u001b[0m\u001b[1;33m.\u001b[0m\u001b[0mlabel\u001b[0m\u001b[1;33m\u001b[0m\u001b[1;33m\u001b[0m\u001b[0m\n\u001b[1;32m---> 61\u001b[1;33m     \u001b[1;32mreturn\u001b[0m \u001b[0mtest\u001b[0m\u001b[1;33m(\u001b[0m\u001b[0mtree\u001b[0m\u001b[1;33m.\u001b[0m\u001b[0mbranch\u001b[0m\u001b[1;33m[\u001b[0m\u001b[0mstr\u001b[0m\u001b[1;33m(\u001b[0m\u001b[0mtest_str\u001b[0m\u001b[1;33m[\u001b[0m\u001b[0mtree\u001b[0m\u001b[1;33m.\u001b[0m\u001b[0mlabel\u001b[0m\u001b[1;33m]\u001b[0m\u001b[1;33m)\u001b[0m\u001b[1;33m]\u001b[0m\u001b[1;33m,\u001b[0m \u001b[0mtest_str\u001b[0m\u001b[1;33m)\u001b[0m\u001b[1;33m\u001b[0m\u001b[1;33m\u001b[0m\u001b[0m\n\u001b[0m\u001b[0;32m     62\u001b[0m \u001b[0mdata\u001b[0m \u001b[1;33m=\u001b[0m \u001b[0mpd\u001b[0m\u001b[1;33m.\u001b[0m\u001b[0mread_csv\u001b[0m\u001b[1;33m(\u001b[0m\u001b[1;34m\"tennis.csv\"\u001b[0m\u001b[1;33m)\u001b[0m\u001b[1;33m\u001b[0m\u001b[1;33m\u001b[0m\u001b[0m\n\u001b[0;32m     63\u001b[0m \u001b[0mtree\u001b[0m \u001b[1;33m=\u001b[0m \u001b[0mdecision_tree\u001b[0m\u001b[1;33m(\u001b[0m\u001b[0mdata\u001b[0m\u001b[1;33m)\u001b[0m\u001b[1;33m\u001b[0m\u001b[1;33m\u001b[0m\u001b[0m\n",
      "\u001b[1;31mKeyError\u001b[0m: 'Rain'"
     ]
    }
   ],
   "source": [
    "import pandas as pd\n",
    "import numpy as np\n",
    "import math\n",
    "class Node:\n",
    "    def __init__(self, l):\n",
    "        self.label = l\n",
    "        self.branch = {}\n",
    "def entropy(data):\n",
    "    total_ex = len(data)\n",
    "    p_ex = len(data.loc[data['PlayTennis']=='Yes'])\n",
    "    n_ex = len(data.loc[data['PlayTennis']=='No'])\n",
    "    en = 0\n",
    "    if(p_ex>0):\n",
    "        en = -(p_ex/float(total_ex)) * (math.log(p_ex,2)-math.log(total_ex,2))\n",
    "    if(n_ex>0):\n",
    "        en += -(n_ex/float(total_ex)) * (math.log(n_ex,2)-math.log(total_ex,2))\n",
    "    return en\n",
    "def gain(en_s,data_s,attrib):\n",
    "    values = set(data_s[attrib])\n",
    "    gain = en_s\n",
    "    for value in values:\n",
    "        gain -= len(data_s.loc[data_s[attrib]==value])/float(len(data_s)) *entropy(data_s.loc[data_s[attrib]==value])\n",
    "    return gain\n",
    "def get_attr(data):\n",
    "    en_s = entropy(data)\n",
    "    attribute = \"\"\n",
    "    max_gain = 0\n",
    "    for attr in data.columns[:len(data.columns)-1]:\n",
    "        g = gain(en_s, data, attr)\n",
    "        if g > max_gain:\n",
    "            max_gain = g\n",
    "            attribute = attr\n",
    "    return attribute\n",
    "def decision_tree(data):\n",
    "    root = Node(\"NULL\")\n",
    "    if(entropy(data)==0):\n",
    "        if(len(data.loc[data[data.columns[-1]]==\"Yes\"]) == len(data)):\n",
    "            root.label = \"Yes\"\n",
    "        else:\n",
    "            root.label = \"No\"\n",
    "        return root\n",
    "    if(len(data.columns)==1):\n",
    "        return\n",
    "    else:\n",
    "        attr = get_attr(data)\n",
    "        root.label = attr\n",
    "        values = set(data[attr])\n",
    "        for value in values:\n",
    "            root.branch[value] =decision_tree(data.loc[data[attr]==value].drop(attr,axis=1))\n",
    "        return root\n",
    "def get_rules(root, rule, rules):\n",
    "    if not root.branch:\n",
    "        rules.append(rule[:-1]+\"=>\"+root.label)\n",
    "        return rules\n",
    "    for val in root.branch:\n",
    "        get_rules(root.branch[val], rule+root.label+\"=\"+str(val)+\"^\", rules)\n",
    "    return rules\n",
    "def test(tree, test_str):\n",
    "    if not tree.branch:\n",
    "        return tree.label\n",
    "    return test(tree.branch[str(test_str[tree.label])], test_str)\n",
    "data = pd.read_csv(\"tennis.csv\")\n",
    "tree = decision_tree(data)\n",
    "rules = get_rules(tree,\" \",[])\n",
    "for rule in rules:\n",
    "    print(rule)\n",
    "test_str = {}\n",
    "print(\"Enter the test case input: \")\n",
    "for attr in data.columns[:-1]:\n",
    "    test_str[attr] = input(attr+\": \")\n",
    "print(test_str)\n",
    "print(test(tree, test_str))"
   ]
  },
  {
   "cell_type": "code",
   "execution_count": null,
   "id": "a98d28fd",
   "metadata": {},
   "outputs": [],
   "source": []
  },
  {
   "cell_type": "code",
   "execution_count": null,
   "id": "cf3a4471",
   "metadata": {},
   "outputs": [],
   "source": []
  },
  {
   "cell_type": "code",
   "execution_count": null,
   "id": "c1681d26",
   "metadata": {},
   "outputs": [],
   "source": []
  }
 ],
 "metadata": {
  "kernelspec": {
   "display_name": "Python 3",
   "language": "python",
   "name": "python3"
  },
  "language_info": {
   "codemirror_mode": {
    "name": "ipython",
    "version": 3
   },
   "file_extension": ".py",
   "mimetype": "text/x-python",
   "name": "python",
   "nbconvert_exporter": "python",
   "pygments_lexer": "ipython3",
   "version": "3.8.8"
  }
 },
 "nbformat": 4,
 "nbformat_minor": 5
}
